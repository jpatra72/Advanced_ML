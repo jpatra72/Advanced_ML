{
  "nbformat": 4,
  "nbformat_minor": 0,
  "metadata": {
    "kernelspec": {
      "display_name": "Python 3",
      "language": "python",
      "name": "python3"
    },
    "language_info": {
      "codemirror_mode": {
        "name": "ipython",
        "version": 3
      },
      "file_extension": ".py",
      "mimetype": "text/x-python",
      "name": "python",
      "nbconvert_exporter": "python",
      "pygments_lexer": "ipython3",
      "version": "3.8.5"
    },
    "colab": {
      "name": "DQN.ipynb",
      "provenance": [],
      "collapsed_sections": [],
      "include_colab_link": true
    },
    "widgets": {
      "application/vnd.jupyter.widget-state+json": {
        "062840acb1484a988811474444b648cd": {
          "model_module": "@jupyter-widgets/controls",
          "model_name": "HBoxModel",
          "state": {
            "_view_name": "HBoxView",
            "_dom_classes": [],
            "_model_name": "HBoxModel",
            "_view_module": "@jupyter-widgets/controls",
            "_model_module_version": "1.5.0",
            "_view_count": null,
            "_view_module_version": "1.5.0",
            "box_style": "",
            "layout": "IPY_MODEL_45da97d1a31643e8a8885726fe738e7c",
            "_model_module": "@jupyter-widgets/controls",
            "children": [
              "IPY_MODEL_5f1cf77f5e634f1dba0fd859041d71bb",
              "IPY_MODEL_7a7ee7c0faa14e8cacdc4b9a94652327"
            ]
          },
          "model_module_version": "1.5.0"
        },
        "45da97d1a31643e8a8885726fe738e7c": {
          "model_module": "@jupyter-widgets/base",
          "model_name": "LayoutModel",
          "state": {
            "_view_name": "LayoutView",
            "grid_template_rows": null,
            "right": null,
            "justify_content": null,
            "_view_module": "@jupyter-widgets/base",
            "overflow": null,
            "_model_module_version": "1.2.0",
            "_view_count": null,
            "flex_flow": null,
            "width": null,
            "min_width": null,
            "border": null,
            "align_items": null,
            "bottom": null,
            "_model_module": "@jupyter-widgets/base",
            "top": null,
            "grid_column": null,
            "overflow_y": null,
            "overflow_x": null,
            "grid_auto_flow": null,
            "grid_area": null,
            "grid_template_columns": null,
            "flex": null,
            "_model_name": "LayoutModel",
            "justify_items": null,
            "grid_row": null,
            "max_height": null,
            "align_content": null,
            "visibility": null,
            "align_self": null,
            "height": null,
            "min_height": null,
            "padding": null,
            "grid_auto_rows": null,
            "grid_gap": null,
            "max_width": null,
            "order": null,
            "_view_module_version": "1.2.0",
            "grid_template_areas": null,
            "object_position": null,
            "object_fit": null,
            "grid_auto_columns": null,
            "margin": null,
            "display": null,
            "left": null
          },
          "model_module_version": "1.2.0"
        },
        "5f1cf77f5e634f1dba0fd859041d71bb": {
          "model_module": "@jupyter-widgets/controls",
          "model_name": "FloatProgressModel",
          "state": {
            "_view_name": "ProgressView",
            "style": "IPY_MODEL_c119013ecf7b4262937d782fac88fa7a",
            "_dom_classes": [],
            "description": "Mean training reward 500.00:   8%",
            "_model_name": "FloatProgressModel",
            "bar_style": "danger",
            "max": 10000,
            "_view_module": "@jupyter-widgets/controls",
            "_model_module_version": "1.5.0",
            "value": 791,
            "_view_count": null,
            "_view_module_version": "1.5.0",
            "orientation": "horizontal",
            "min": 0,
            "description_tooltip": null,
            "_model_module": "@jupyter-widgets/controls",
            "layout": "IPY_MODEL_84ec78cdaf06494da08c1ad8fb779ccf"
          },
          "model_module_version": "1.5.0"
        },
        "7a7ee7c0faa14e8cacdc4b9a94652327": {
          "model_module": "@jupyter-widgets/controls",
          "model_name": "HTMLModel",
          "state": {
            "_view_name": "HTMLView",
            "style": "IPY_MODEL_1d32f6c96e9c43b9bc46e8850e9dcab3",
            "_dom_classes": [],
            "description": "",
            "_model_name": "HTMLModel",
            "placeholder": "​",
            "_view_module": "@jupyter-widgets/controls",
            "_model_module_version": "1.5.0",
            "value": " 791/10000 [49:45&lt;9:39:18,  3.77s/it]",
            "_view_count": null,
            "_view_module_version": "1.5.0",
            "description_tooltip": null,
            "_model_module": "@jupyter-widgets/controls",
            "layout": "IPY_MODEL_08ef13c41df94988896aa429a6f9800f"
          },
          "model_module_version": "1.5.0"
        },
        "c119013ecf7b4262937d782fac88fa7a": {
          "model_module": "@jupyter-widgets/controls",
          "model_name": "ProgressStyleModel",
          "state": {
            "_view_name": "StyleView",
            "_model_name": "ProgressStyleModel",
            "description_width": "initial",
            "_view_module": "@jupyter-widgets/base",
            "_model_module_version": "1.5.0",
            "_view_count": null,
            "_view_module_version": "1.2.0",
            "bar_color": null,
            "_model_module": "@jupyter-widgets/controls"
          },
          "model_module_version": "1.5.0"
        },
        "84ec78cdaf06494da08c1ad8fb779ccf": {
          "model_module": "@jupyter-widgets/base",
          "model_name": "LayoutModel",
          "state": {
            "_view_name": "LayoutView",
            "grid_template_rows": null,
            "right": null,
            "justify_content": null,
            "_view_module": "@jupyter-widgets/base",
            "overflow": null,
            "_model_module_version": "1.2.0",
            "_view_count": null,
            "flex_flow": null,
            "width": null,
            "min_width": null,
            "border": null,
            "align_items": null,
            "bottom": null,
            "_model_module": "@jupyter-widgets/base",
            "top": null,
            "grid_column": null,
            "overflow_y": null,
            "overflow_x": null,
            "grid_auto_flow": null,
            "grid_area": null,
            "grid_template_columns": null,
            "flex": null,
            "_model_name": "LayoutModel",
            "justify_items": null,
            "grid_row": null,
            "max_height": null,
            "align_content": null,
            "visibility": null,
            "align_self": null,
            "height": null,
            "min_height": null,
            "padding": null,
            "grid_auto_rows": null,
            "grid_gap": null,
            "max_width": null,
            "order": null,
            "_view_module_version": "1.2.0",
            "grid_template_areas": null,
            "object_position": null,
            "object_fit": null,
            "grid_auto_columns": null,
            "margin": null,
            "display": null,
            "left": null
          },
          "model_module_version": "1.2.0"
        },
        "1d32f6c96e9c43b9bc46e8850e9dcab3": {
          "model_module": "@jupyter-widgets/controls",
          "model_name": "DescriptionStyleModel",
          "state": {
            "_view_name": "StyleView",
            "_model_name": "DescriptionStyleModel",
            "description_width": "",
            "_view_module": "@jupyter-widgets/base",
            "_model_module_version": "1.5.0",
            "_view_count": null,
            "_view_module_version": "1.2.0",
            "_model_module": "@jupyter-widgets/controls"
          },
          "model_module_version": "1.5.0"
        },
        "08ef13c41df94988896aa429a6f9800f": {
          "model_module": "@jupyter-widgets/base",
          "model_name": "LayoutModel",
          "state": {
            "_view_name": "LayoutView",
            "grid_template_rows": null,
            "right": null,
            "justify_content": null,
            "_view_module": "@jupyter-widgets/base",
            "overflow": null,
            "_model_module_version": "1.2.0",
            "_view_count": null,
            "flex_flow": null,
            "width": null,
            "min_width": null,
            "border": null,
            "align_items": null,
            "bottom": null,
            "_model_module": "@jupyter-widgets/base",
            "top": null,
            "grid_column": null,
            "overflow_y": null,
            "overflow_x": null,
            "grid_auto_flow": null,
            "grid_area": null,
            "grid_template_columns": null,
            "flex": null,
            "_model_name": "LayoutModel",
            "justify_items": null,
            "grid_row": null,
            "max_height": null,
            "align_content": null,
            "visibility": null,
            "align_self": null,
            "height": null,
            "min_height": null,
            "padding": null,
            "grid_auto_rows": null,
            "grid_gap": null,
            "max_width": null,
            "order": null,
            "_view_module_version": "1.2.0",
            "grid_template_areas": null,
            "object_position": null,
            "object_fit": null,
            "grid_auto_columns": null,
            "margin": null,
            "display": null,
            "left": null
          },
          "model_module_version": "1.2.0"
        },
        "d84fb2831ded4a7bb4eb4c539dfb65e7": {
          "model_module": "@jupyter-widgets/controls",
          "model_name": "HBoxModel",
          "state": {
            "_view_name": "HBoxView",
            "_dom_classes": [],
            "_model_name": "HBoxModel",
            "_view_module": "@jupyter-widgets/controls",
            "_model_module_version": "1.5.0",
            "_view_count": null,
            "_view_module_version": "1.5.0",
            "box_style": "",
            "layout": "IPY_MODEL_fee02963f0744bab8d5a3e628e48d274",
            "_model_module": "@jupyter-widgets/controls",
            "children": [
              "IPY_MODEL_043bda4f6cd0438bb0d6e06c1f971d58",
              "IPY_MODEL_7dffc4c8884a4b9881950d18f499ecac"
            ]
          },
          "model_module_version": "1.5.0"
        },
        "fee02963f0744bab8d5a3e628e48d274": {
          "model_module": "@jupyter-widgets/base",
          "model_name": "LayoutModel",
          "state": {
            "_view_name": "LayoutView",
            "grid_template_rows": null,
            "right": null,
            "justify_content": null,
            "_view_module": "@jupyter-widgets/base",
            "overflow": null,
            "_model_module_version": "1.2.0",
            "_view_count": null,
            "flex_flow": null,
            "width": null,
            "min_width": null,
            "border": null,
            "align_items": null,
            "bottom": null,
            "_model_module": "@jupyter-widgets/base",
            "top": null,
            "grid_column": null,
            "overflow_y": null,
            "overflow_x": null,
            "grid_auto_flow": null,
            "grid_area": null,
            "grid_template_columns": null,
            "flex": null,
            "_model_name": "LayoutModel",
            "justify_items": null,
            "grid_row": null,
            "max_height": null,
            "align_content": null,
            "visibility": null,
            "align_self": null,
            "height": null,
            "min_height": null,
            "padding": null,
            "grid_auto_rows": null,
            "grid_gap": null,
            "max_width": null,
            "order": null,
            "_view_module_version": "1.2.0",
            "grid_template_areas": null,
            "object_position": null,
            "object_fit": null,
            "grid_auto_columns": null,
            "margin": null,
            "display": null,
            "left": null
          },
          "model_module_version": "1.2.0"
        },
        "043bda4f6cd0438bb0d6e06c1f971d58": {
          "model_module": "@jupyter-widgets/controls",
          "model_name": "FloatProgressModel",
          "state": {
            "_view_name": "ProgressView",
            "style": "IPY_MODEL_3c022d03fe2d4f50bfb769a5a1fe0bdd",
            "_dom_classes": [],
            "description": "Validating: 100%",
            "_model_name": "FloatProgressModel",
            "bar_style": "success",
            "max": 100,
            "_view_module": "@jupyter-widgets/controls",
            "_model_module_version": "1.5.0",
            "value": 100,
            "_view_count": null,
            "_view_module_version": "1.5.0",
            "orientation": "horizontal",
            "min": 0,
            "description_tooltip": null,
            "_model_module": "@jupyter-widgets/controls",
            "layout": "IPY_MODEL_ba9ff2e6b7c24963aef0d857cd719f0a"
          },
          "model_module_version": "1.5.0"
        },
        "7dffc4c8884a4b9881950d18f499ecac": {
          "model_module": "@jupyter-widgets/controls",
          "model_name": "HTMLModel",
          "state": {
            "_view_name": "HTMLView",
            "style": "IPY_MODEL_e4928130dd014553b81788def98ed6b9",
            "_dom_classes": [],
            "description": "",
            "_model_name": "HTMLModel",
            "placeholder": "​",
            "_view_module": "@jupyter-widgets/controls",
            "_model_module_version": "1.5.0",
            "value": " 100/100 [00:08&lt;00:00, 11.50it/s]",
            "_view_count": null,
            "_view_module_version": "1.5.0",
            "description_tooltip": null,
            "_model_module": "@jupyter-widgets/controls",
            "layout": "IPY_MODEL_ee5c173b1358412c92413f5718ab8a6f"
          },
          "model_module_version": "1.5.0"
        },
        "3c022d03fe2d4f50bfb769a5a1fe0bdd": {
          "model_module": "@jupyter-widgets/controls",
          "model_name": "ProgressStyleModel",
          "state": {
            "_view_name": "StyleView",
            "_model_name": "ProgressStyleModel",
            "description_width": "initial",
            "_view_module": "@jupyter-widgets/base",
            "_model_module_version": "1.5.0",
            "_view_count": null,
            "_view_module_version": "1.2.0",
            "bar_color": null,
            "_model_module": "@jupyter-widgets/controls"
          },
          "model_module_version": "1.5.0"
        },
        "ba9ff2e6b7c24963aef0d857cd719f0a": {
          "model_module": "@jupyter-widgets/base",
          "model_name": "LayoutModel",
          "state": {
            "_view_name": "LayoutView",
            "grid_template_rows": null,
            "right": null,
            "justify_content": null,
            "_view_module": "@jupyter-widgets/base",
            "overflow": null,
            "_model_module_version": "1.2.0",
            "_view_count": null,
            "flex_flow": null,
            "width": null,
            "min_width": null,
            "border": null,
            "align_items": null,
            "bottom": null,
            "_model_module": "@jupyter-widgets/base",
            "top": null,
            "grid_column": null,
            "overflow_y": null,
            "overflow_x": null,
            "grid_auto_flow": null,
            "grid_area": null,
            "grid_template_columns": null,
            "flex": null,
            "_model_name": "LayoutModel",
            "justify_items": null,
            "grid_row": null,
            "max_height": null,
            "align_content": null,
            "visibility": null,
            "align_self": null,
            "height": null,
            "min_height": null,
            "padding": null,
            "grid_auto_rows": null,
            "grid_gap": null,
            "max_width": null,
            "order": null,
            "_view_module_version": "1.2.0",
            "grid_template_areas": null,
            "object_position": null,
            "object_fit": null,
            "grid_auto_columns": null,
            "margin": null,
            "display": null,
            "left": null
          },
          "model_module_version": "1.2.0"
        },
        "e4928130dd014553b81788def98ed6b9": {
          "model_module": "@jupyter-widgets/controls",
          "model_name": "DescriptionStyleModel",
          "state": {
            "_view_name": "StyleView",
            "_model_name": "DescriptionStyleModel",
            "description_width": "",
            "_view_module": "@jupyter-widgets/base",
            "_model_module_version": "1.5.0",
            "_view_count": null,
            "_view_module_version": "1.2.0",
            "_model_module": "@jupyter-widgets/controls"
          },
          "model_module_version": "1.5.0"
        },
        "ee5c173b1358412c92413f5718ab8a6f": {
          "model_module": "@jupyter-widgets/base",
          "model_name": "LayoutModel",
          "state": {
            "_view_name": "LayoutView",
            "grid_template_rows": null,
            "right": null,
            "justify_content": null,
            "_view_module": "@jupyter-widgets/base",
            "overflow": null,
            "_model_module_version": "1.2.0",
            "_view_count": null,
            "flex_flow": null,
            "width": null,
            "min_width": null,
            "border": null,
            "align_items": null,
            "bottom": null,
            "_model_module": "@jupyter-widgets/base",
            "top": null,
            "grid_column": null,
            "overflow_y": null,
            "overflow_x": null,
            "grid_auto_flow": null,
            "grid_area": null,
            "grid_template_columns": null,
            "flex": null,
            "_model_name": "LayoutModel",
            "justify_items": null,
            "grid_row": null,
            "max_height": null,
            "align_content": null,
            "visibility": null,
            "align_self": null,
            "height": null,
            "min_height": null,
            "padding": null,
            "grid_auto_rows": null,
            "grid_gap": null,
            "max_width": null,
            "order": null,
            "_view_module_version": "1.2.0",
            "grid_template_areas": null,
            "object_position": null,
            "object_fit": null,
            "grid_auto_columns": null,
            "margin": null,
            "display": null,
            "left": null
          },
          "model_module_version": "1.2.0"
        }
      }
    }
  },
  "cells": [
    {
      "cell_type": "markdown",
      "metadata": {
        "id": "view-in-github",
        "colab_type": "text"
      },
      "source": [
        "<a href=\"https://colab.research.google.com/github/jpatra72/Advanced_ML/blob/main/DQN.ipynb\" target=\"_parent\"><img src=\"https://colab.research.google.com/assets/colab-badge.svg\" alt=\"Open In Colab\"/></a>"
      ]
    },
    {
      "cell_type": "markdown",
      "metadata": {
        "id": "Bsgqwq3KR5tx"
      },
      "source": [
        "# DQN For The CartPole Balancing Problem\n",
        "<div style=\"text-align: right;font-size: 0.8em\">Document Version 1.0.2, released 2021-02-19</div>\n",
        "\n",
        "\n",
        "* The parts of the code you are to implement are indicated via `# TODO` comments.\n",
        "* You can use the `# Test code` cells to verify your implementation. However note that these are not the unit tests used for grading.\n",
        "* Some cells create export file in the `solution/` folder. _Include whole `solution/` folder in your submission_.\n",
        "* DO NOT CLEAR THE OUTPUT of the notebook you are submitting!"
      ]
    },
    {
      "cell_type": "code",
      "metadata": {
        "id": "QyduR4YXR5t1"
      },
      "source": [
        "# General imports\n",
        "from pathlib import Path\n",
        "from copy import deepcopy\n",
        "import numpy as np\n",
        "import pandas as pd\n",
        "import matplotlib.pyplot as plt\n",
        "import seaborn as sns\n",
        "import gym\n",
        "from tqdm.auto import tqdm\n",
        "\n",
        "\n",
        "\n",
        "# Create solution folder\n",
        "Path(\"solution/\").mkdir(exist_ok=True)"
      ],
      "execution_count": null,
      "outputs": []
    },
    {
      "cell_type": "markdown",
      "metadata": {
        "id": "fX1ZuqxUR5t3"
      },
      "source": [
        "## Question B1 - Deep Q-Networks\n",
        "### a) Implement Replay Buffer"
      ]
    },
    {
      "cell_type": "code",
      "metadata": {
        "id": "Gyx-Gl3eR5t4"
      },
      "source": [
        "class ReplayBuffer(object):\n",
        "    def __init__(self, mem_size, state_shape):\n",
        "        \"\"\"Initialization of the replay buffer.\n",
        "        \n",
        "        The memories have the following data types:\n",
        "            states: float32\n",
        "            next_states: float32\n",
        "            actions: int64\n",
        "            rewards: float32\n",
        "            is_terminal: bool\n",
        "\n",
        "        Args:\n",
        "            mem_size: Capacity of this buffer\n",
        "            state_shape: Shape of state and next_state\n",
        "        \"\"\"\n",
        "        self.mem_size = mem_size  # Capacity of the buffer\n",
        "        self.mem_cntr = 0         # Number of added elements\n",
        "        self.state_memory = np.zeros((self.mem_size, *state_shape), dtype=np.float32)\n",
        "        self.next_state_memory = np.zeros((self.mem_size, *state_shape), dtype=np.float32)\n",
        "        self.action_memory = np.zeros(self.mem_size, dtype=np.int64)\n",
        "        self.reward_memory = np.zeros(self.mem_size, dtype=np.float32)\n",
        "        self.terminal_memory = np.zeros(self.mem_size, dtype=np.bool)\n",
        "    \n",
        "    def is_filled(self):\n",
        "        \"\"\"Check if the memory is filled.\"\"\"\n",
        "        return buffer.mem_cntr >= buffer.mem_size\n",
        "\n",
        "    def add(self, state, action, reward, next_state, is_terminal):\n",
        "        \"\"\"Add one transition to the buffer.\n",
        "\n",
        "        Replaces the oldest transition in memory.\n",
        "        \"\"\"\n",
        "        # TODO\n",
        "        index = self.mem_cntr % self.mem_size\n",
        "\n",
        "        self.state_memory[index] = state[np.newaxis, :]\n",
        "        self.next_state_memory[index] = next_state[np.newaxis, :]\n",
        "        self.action_memory[index] = action\n",
        "        self.reward_memory[index] = reward\n",
        "        self.terminal_memory[index] = is_terminal\n",
        "\n",
        "\n",
        "        self.mem_cntr += 1  \n",
        "\n",
        "    def sample_batch(self, batch_size):\n",
        "        \"\"\"Sample one batch from the memory.\"\"\"\n",
        "        # TODO\n",
        "        sample = np.random.choice(self.mem_size, batch_size, replace = False) \n",
        "\n",
        "        states = self.state_memory[sample, :]\n",
        "        next_states =  self.next_state_memory[sample, :]\n",
        "        actions = self.action_memory[sample]\n",
        "        rewards = self.reward_memory[sample]\n",
        "        is_terminal = self.terminal_memory[sample]\n",
        "        return states, actions, rewards, next_states, is_terminal"
      ],
      "execution_count": null,
      "outputs": []
    },
    {
      "cell_type": "code",
      "metadata": {
        "colab": {
          "base_uri": "https://localhost:8080/",
          "height": 37
        },
        "id": "laLpQgz9R5t5",
        "outputId": "c7dc8ed2-8203-4228-968e-22abf541645f"
      },
      "source": [
        "# Test code\n",
        "_buffer = ReplayBuffer(10, (5,))\n",
        "assert _buffer.mem_size == 10\n",
        "assert _buffer.mem_cntr == 0\n",
        "for i in range(10): # Fill test values\n",
        "    _buffer.add(np.arange(5)+i , 5+i, 6+i, 7+np.arange(5)+i, (12+i)%2 == 0)\n",
        "assert _buffer.mem_size == 10\n",
        "assert _buffer.mem_cntr == 10, \"Wrong mem_cntr\"\n",
        "\n",
        "_is = set()\n",
        "for s, a, r, s_, t in zip(*_buffer.sample_batch(5)):\n",
        "    i = s[0]\n",
        "    assert 0 <= i < 10, \"Wrong states\"\n",
        "    _is.add(i)\n",
        "    np.testing.assert_array_equal(s, np.arange(5)+i, err_msg=\"Wrong states\")\n",
        "    np.testing.assert_equal(a, 5+i, err_msg=\"Wrong actions\")\n",
        "    np.testing.assert_equal(r, 6+i, err_msg=\"Wrong rewards\")\n",
        "    np.testing.assert_array_equal(s_, 7+np.arange(5)+i, err_msg=\"Wrong next states\")\n",
        "    np.testing.assert_equal(t, (12+i)%2 == 0, err_msg=\"Wrong terminals\")\n",
        "assert len(_is) == 5, \"Duplicate transitions\"\n",
        "\"ok\""
      ],
      "execution_count": null,
      "outputs": [
        {
          "output_type": "execute_result",
          "data": {
            "application/vnd.google.colaboratory.intrinsic+json": {
              "type": "string"
            },
            "text/plain": [
              "'ok'"
            ]
          },
          "metadata": {
            "tags": []
          },
          "execution_count": 3
        }
      ]
    },
    {
      "cell_type": "markdown",
      "metadata": {
        "id": "eJ7sjxnPR5t6"
      },
      "source": [
        "### b) Fill replay buffer\n",
        "\n",
        "_Changed 2021-02-17: Renamed `max_size` parameter to `mem_size`_"
      ]
    },
    {
      "cell_type": "code",
      "metadata": {
        "id": "8wkvrlHpR5t7"
      },
      "source": [
        "env = gym.make('CartPole-v1')\n",
        "\n",
        "# Initialize replay buffer\n",
        "buffer = ReplayBuffer(mem_size=25000, state_shape=env.observation_space.shape)\n",
        "\n",
        "# ********************\n",
        "# TODO Sampled transitions from environment and add to buffer\n",
        "\n",
        "while not buffer.is_filled():\n",
        "\n",
        "    observation, done = env.reset(), False\n",
        "  \n",
        "    while not (done):\n",
        "    \n",
        "        state = observation      \n",
        "        action = env.action_space.sample()\n",
        "        observation, reward, done, _ = env.step(action)\n",
        "        buffer.add(state, action, reward, observation, done)\n",
        "   \n",
        "        if buffer.is_filled():\n",
        "            break\n",
        "\n",
        "env.close()"
      ],
      "execution_count": null,
      "outputs": []
    },
    {
      "cell_type": "code",
      "metadata": {
        "colab": {
          "base_uri": "https://localhost:8080/",
          "height": 37
        },
        "id": "54mtSph7R5t8",
        "outputId": "b84ab3ea-a796-417d-febe-6c112a2cad4b"
      },
      "source": [
        "# Test code\n",
        "assert buffer.is_filled(), f\"Buffer not filled, only {buffer.mem_cntr}/{buffer.mem_size} transitions in memory\"\n",
        "\"ok\""
      ],
      "execution_count": null,
      "outputs": [
        {
          "output_type": "execute_result",
          "data": {
            "application/vnd.google.colaboratory.intrinsic+json": {
              "type": "string"
            },
            "text/plain": [
              "'ok'"
            ]
          },
          "metadata": {
            "tags": []
          },
          "execution_count": 5
        }
      ]
    },
    {
      "cell_type": "markdown",
      "metadata": {
        "id": "4zdCPm7vR5t9"
      },
      "source": [
        "## Question B2 - Deep Q-Networks\n",
        "### a) Define Q-Network"
      ]
    },
    {
      "cell_type": "code",
      "metadata": {
        "id": "GYtkzxtxR5t9"
      },
      "source": [
        "import torch\n",
        "from torch import nn\n",
        "import torch.nn.functional as F\n",
        "\n",
        "class DeepQNetwork(nn.Module):\n",
        "    def __init__(self):\n",
        "        super(DeepQNetwork, self).__init__()\n",
        "        # TODO Create layers\n",
        "        self.ffn1 = nn.Linear(4,256)\n",
        "        self.relu = nn.ReLU()\n",
        "        self.ffn2 = nn.Linear(256,2)\n",
        "\n",
        "\n",
        "    def forward(self, state):\n",
        "        # TODO Implement forward pass\n",
        "        x = self.ffn1(state)\n",
        "        x = self.relu(x)\n",
        "        Q = self.ffn2(x)\n",
        "\n",
        "        return Q"
      ],
      "execution_count": null,
      "outputs": []
    },
    {
      "cell_type": "code",
      "metadata": {
        "colab": {
          "base_uri": "https://localhost:8080/",
          "height": 37
        },
        "id": "o1sr895JR5t-",
        "outputId": "31ba7a0d-b320-43c2-e095-65f6d95ba002"
      },
      "source": [
        "# Test code\n",
        "_test_output = DeepQNetwork()(torch.FloatTensor([[1, 2, 3, 4]]))\n",
        "assert _test_output.shape == (1, 2), f\"Expected output shape (1, 2), got {_test_output.shape}\"\n",
        "\"ok\""
      ],
      "execution_count": null,
      "outputs": [
        {
          "output_type": "execute_result",
          "data": {
            "application/vnd.google.colaboratory.intrinsic+json": {
              "type": "string"
            },
            "text/plain": [
              "'ok'"
            ]
          },
          "metadata": {
            "tags": []
          },
          "execution_count": 7
        }
      ]
    },
    {
      "cell_type": "markdown",
      "metadata": {
        "id": "NbXUWhe_R5t_"
      },
      "source": [
        "### b) $\\epsilon$-Greedy"
      ]
    },
    {
      "cell_type": "code",
      "metadata": {
        "id": "R8ffHlA2R5uA"
      },
      "source": [
        "def epsilon_greedy(state, q_network, epsilon=0.05):\n",
        "    \"\"\"Perform epsilon-greedy action sampling.\n",
        "\n",
        "    Args:\n",
        "        state: numpy ndarray, current state\n",
        "        q_network: torch module\n",
        "\n",
        "    Returns:\n",
        "        action: one action\n",
        "    \"\"\"\n",
        "    # TODO Epsilon-greedy action sampling\n",
        "    if np.random.uniform(0,1) < epsilon:\n",
        "        action = env.action_space.sample()\n",
        "    else:\n",
        "        action = np.argmax(q_network(torch.tensor(state).float()).detach().numpy())\n",
        "\n",
        "    return action"
      ],
      "execution_count": null,
      "outputs": []
    },
    {
      "cell_type": "code",
      "metadata": {
        "colab": {
          "base_uri": "https://localhost:8080/",
          "height": 265
        },
        "id": "6saodKS0R5uB",
        "outputId": "f3707368-2929-46a0-a987-07716ed7fb2d"
      },
      "source": [
        "# Test Code\n",
        "class DummyModule(nn.Module):\n",
        "    def forward(self, state):\n",
        "        return torch.FloatTensor([1,2]) # Constant output\n",
        "\n",
        "# Sample 1000 actions\n",
        "_actions = [epsilon_greedy(np.array([1,2,3,4]), DummyModule(), epsilon=0.2) for _ in range(1000)]\n",
        "\n",
        "sns.histplot(_actions, discrete=True, stat=\"density\")\n",
        "plt.xticks([0,1])\n",
        "plt.show()\n",
        "\n",
        "_zeros = 1000 - sum(_actions)\n",
        "# Note: This is a stochastic test. It produces a false error in 1% of the cases\n",
        "assert 75 < _zeros < 125, f\"Frequency of action 0 ({_zeros}) is outside the 99% confidence interval [76, 124]\""
      ],
      "execution_count": null,
      "outputs": [
        {
          "output_type": "display_data",
          "data": {
            "image/png": "[encoded data removed]",
            "text/plain": [
              "<Figure size 432x288 with 1 Axes>"
            ]
          },
          "metadata": {
            "tags": [],
            "needs_background": "light"
          }
        }
      ]
    },
    {
      "cell_type": "markdown",
      "metadata": {
        "id": "Ijkg-g-dR5uC"
      },
      "source": [
        "### c) Loss Function\n",
        "\n",
        "_Changed 2021-02-17: Added `gamma` explicitely to parameters_"
      ]
    },
    {
      "cell_type": "code",
      "metadata": {
        "id": "gUrxLmNVR5uC"
      },
      "source": [
        "mse = nn.MSELoss()\n",
        "\n",
        "def compute_loss(q_network, target_network, states, actions, rewards, next_states, is_terminal, gamma=0.99):\n",
        "    # TODO Implement loss function\n",
        "    # qvals = ...\n",
        "    qvals = []\n",
        "    expected_qvals = []\n",
        "\n",
        "    for i, (s, a, r, n_s, is_t) in enumerate(zip(states, actions, rewards, next_states, is_terminal)):\n",
        "        qval = q_network(s)[a]\n",
        "        n_a = np.argmax(q_network(n_s).detach())\n",
        "\n",
        "        if is_t :\n",
        "            expected_qval =  r + 0 * target_network(n_s)[n_a]\n",
        "        else:\n",
        "            expected_qval =  r + gamma * target_network(n_s)[n_a]\n",
        "      \n",
        "        qvals.append(qval)\n",
        "        expected_qvals.append(expected_qval)\n",
        "\n",
        "    qvals = torch.stack(qvals).float()\n",
        "    expected_qvals = torch.stack(expected_qvals).float()\n",
        "\n",
        "    loss = mse(qvals, expected_qvals)\n",
        "    return loss"
      ],
      "execution_count": null,
      "outputs": []
    },
    {
      "cell_type": "markdown",
      "metadata": {
        "id": "4YGf5F1oR5uD"
      },
      "source": [
        "### d) Training\n",
        "\n",
        "_Changed 2021-02-19: Properly call `compute_loss`_"
      ]
    },
    {
      "cell_type": "code",
      "metadata": {
        "colab": {
          "base_uri": "https://localhost:8080/",
          "height": 346,
          "referenced_widgets": [
            "062840acb1484a988811474444b648cd",
            "45da97d1a31643e8a8885726fe738e7c",
            "5f1cf77f5e634f1dba0fd859041d71bb",
            "7a7ee7c0faa14e8cacdc4b9a94652327",
            "c119013ecf7b4262937d782fac88fa7a",
            "84ec78cdaf06494da08c1ad8fb779ccf",
            "1d32f6c96e9c43b9bc46e8850e9dcab3",
            "08ef13c41df94988896aa429a6f9800f"
          ]
        },
        "id": "zTXuUw6iR5uD",
        "outputId": "2b47e484-2470-4d65-f207-df552667de32"
      },
      "source": [
        "# Hyperparameters\n",
        "epsilon = 0.05  # For epsilon greedy action sampling\n",
        "batch_size = 64\n",
        "NETWORK_UPDATE_FREQUENCY = 4\n",
        "NETWORK_SYNC_FREQUENCY = 100\n",
        "gamma = 0.99\n",
        "episodes = 10000\n",
        "replay_buffer_size =  1000\n",
        "\n",
        "\n",
        "q_network = DeepQNetwork()\n",
        "target_network = deepcopy(q_network)\n",
        "optimizer = torch.optim.Adam(q_network.parameters(), lr=1e-3)\n",
        "mse = nn.MSELoss()\n",
        "\n",
        "step_count = 0\n",
        "total_rewards = []\n",
        "with tqdm(range(episodes)) as pbar:\n",
        "    for _ in pbar:\n",
        "        state, done = env.reset(), False\n",
        "        rewards = []\n",
        "\n",
        "        while not done:\n",
        "            # Take a step\n",
        "            action = epsilon_greedy(state, q_network, epsilon=epsilon)\n",
        "            next_state, reward, done, _ = env.step(action)\n",
        "\n",
        "            # Bookkeeping\n",
        "            rewards.append(reward)\n",
        "            buffer.add(state=state, action=action, reward=reward, next_state=next_state, is_terminal=done and env._elapsed_steps < 500)\n",
        "            state = next_state\n",
        "\n",
        "            step_count += 1\n",
        "\n",
        "            # Update network every NETWORK_UPDATE_FREQUENCY steps\n",
        "            if step_count % NETWORK_UPDATE_FREQUENCY == 0:\n",
        "                # Sample batch of transitions\n",
        "                state_batch, action_batch, reward_batch, next_state_batch, terminal_batch = buffer.sample_batch(batch_size=batch_size)\n",
        "                state_batch = torch.FloatTensor(state_batch)\n",
        "                next_state_batch = torch.FloatTensor(next_state_batch)\n",
        "                action_batch = torch.LongTensor(action_batch).reshape(-1, 1)\n",
        "                reward_batch = torch.FloatTensor(reward_batch).reshape(-1, 1)\n",
        "                terminal_batch = torch.BoolTensor(terminal_batch)\n",
        "\n",
        "                # Compute loss\n",
        "                loss = compute_loss(q_network, target_network, state_batch, action_batch, reward_batch, next_state_batch, terminal_batch, gamma)\n",
        "                \n",
        "                optimizer.zero_grad()\n",
        "                loss.backward()\n",
        "                optimizer.step()\n",
        "           \n",
        "            # Sync networks every NETWORK_SYNC_FREQUENCY steps\n",
        "            if step_count % NETWORK_SYNC_FREQUENCY == 0:\n",
        "                # ********************\n",
        "                # TODO Synchronize networks\n",
        "                target_network.load_state_dict(q_network.state_dict())\n",
        "\n",
        "\n",
        "\n",
        "                # ********************\n",
        "\n",
        "        total_rewards.append(sum(rewards))\n",
        "\n",
        "         # Print statistics\n",
        "        pbar.set_description(f\"Mean training reward {np.mean(total_rewards[-100:]):.02f}\")\n",
        "        if np.mean(total_rewards[-100:]) == 500:\n",
        "            break # Stop training\n",
        "\n",
        "# Save model\n",
        "with open(\"solution/b2d.pt\", \"wb\") as f:\n",
        "    torch.save(q_network, f)\n",
        "\n",
        "# Plot training\n",
        "plt.plot(total_rewards, label=\"per episode\")\n",
        "plt.plot(pd.DataFrame(total_rewards).rolling(100).mean(), label=\"average reward\")\n",
        "plt.xlabel(\"epoch\")\n",
        "plt.ylabel(\"reward\")\n",
        "plt.legend()\n",
        "plt.tight_layout()\n",
        "plt.savefig(\"solution/b2d.png\")"
      ],
      "execution_count": null,
      "outputs": [
        {
          "output_type": "display_data",
          "data": {
            "application/vnd.jupyter.widget-view+json": {
              "model_id": "062840acb1484a988811474444b648cd",
              "version_minor": 0,
              "version_major": 2
            },
            "text/plain": [
              "HBox(children=(FloatProgress(value=0.0, max=10000.0), HTML(value='')))"
            ]
          },
          "metadata": {
            "tags": []
          }
        },
        {
          "output_type": "stream",
          "text": [
            "\n"
          ],
          "name": "stdout"
        },
        {
          "output_type": "display_data",
          "data": {
            "image/png": "[encoded data removed]",
            "text/plain": [
              "<Figure size 432x288 with 1 Axes>"
            ]
          },
          "metadata": {
            "tags": [],
            "needs_background": "light"
          }
        }
      ]
    },
    {
      "cell_type": "code",
      "metadata": {
        "id": "_NUpDifAR5uF",
        "colab": {
          "base_uri": "https://localhost:8080/",
          "height": 86,
          "referenced_widgets": [
            "d84fb2831ded4a7bb4eb4c539dfb65e7",
            "fee02963f0744bab8d5a3e628e48d274",
            "043bda4f6cd0438bb0d6e06c1f971d58",
            "7dffc4c8884a4b9881950d18f499ecac",
            "3c022d03fe2d4f50bfb769a5a1fe0bdd",
            "ba9ff2e6b7c24963aef0d857cd719f0a",
            "e4928130dd014553b81788def98ed6b9",
            "ee5c173b1358412c92413f5718ab8a6f"
          ]
        },
        "outputId": "24e93a50-880b-4c10-9772-b56bf3d68f1f"
      },
      "source": [
        "# Test code\n",
        "policy = q_network\n",
        "policy.eval() # Switch to evaluation mode\n",
        "\n",
        "def _rollout(seed):\n",
        "    env.seed(seed)\n",
        "    state, done = env.reset(), False\n",
        "    while not done:\n",
        "        probs = policy(torch.tensor(state).float().reshape((1, -1)))[0]\n",
        "        action = np.argmax(probs.detach().numpy())  # Greedy action\n",
        "        state, reward, done, _ = env.step(action)\n",
        "    return env._elapsed_steps\n",
        "        \n",
        "_avg_reward = np.mean([_rollout(seed=i) for i in tqdm(range(100), desc=\"Validating\")])\n",
        "assert _avg_reward >= 487.5, f\"Average reward below 487.5, got {_avg_reward}\"\n",
        "f\"ok (Average reward {_avg_reward:0.2f})\""
      ],
      "execution_count": null,
      "outputs": [
        {
          "output_type": "display_data",
          "data": {
            "application/vnd.jupyter.widget-view+json": {
              "model_id": "d84fb2831ded4a7bb4eb4c539dfb65e7",
              "version_minor": 0,
              "version_major": 2
            },
            "text/plain": [
              "HBox(children=(FloatProgress(value=0.0, description='Validating', style=ProgressStyle(description_width='initi…"
            ]
          },
          "metadata": {
            "tags": []
          }
        },
        {
          "output_type": "stream",
          "text": [
            "\n"
          ],
          "name": "stdout"
        },
        {
          "output_type": "execute_result",
          "data": {
            "application/vnd.google.colaboratory.intrinsic+json": {
              "type": "string"
            },
            "text/plain": [
              "'ok (Average reward 500.00)'"
            ]
          },
          "metadata": {
            "tags": []
          },
          "execution_count": 12
        }
      ]
    }
  ]
}